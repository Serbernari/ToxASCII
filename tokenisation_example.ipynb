{
 "cells": [
  {
   "cell_type": "code",
   "execution_count": 25,
   "metadata": {},
   "outputs": [
    {
     "data": {
      "text/plain": [
       "['▁',\n",
       " '<0x0A>',\n",
       " '##',\n",
       " '#',\n",
       " '▁▁▁▁▁▁▁▁',\n",
       " '▁###',\n",
       " '▁',\n",
       " '▁#####',\n",
       " '#',\n",
       " '▁',\n",
       " '<0x0A>',\n",
       " '##',\n",
       " '#',\n",
       " '▁▁▁▁▁▁▁▁',\n",
       " '▁###',\n",
       " '▁▁▁',\n",
       " '▁###',\n",
       " '▁▁▁▁▁',\n",
       " '<0x0A>',\n",
       " '##',\n",
       " '#',\n",
       " '▁▁▁▁▁▁▁▁',\n",
       " '▁###',\n",
       " '▁▁▁',\n",
       " '▁###',\n",
       " '▁▁▁▁▁',\n",
       " '<0x0A>',\n",
       " '##',\n",
       " '#',\n",
       " '▁▁▁▁▁▁▁▁',\n",
       " '▁###',\n",
       " '▁▁▁',\n",
       " '▁###',\n",
       " '▁▁▁▁▁',\n",
       " '<0x0A>',\n",
       " '########',\n",
       " '####',\n",
       " '##',\n",
       " '#',\n",
       " '▁▁▁',\n",
       " '▁###',\n",
       " '▁▁',\n",
       " '<0x0A>',\n",
       " '########',\n",
       " '####',\n",
       " '##',\n",
       " '#',\n",
       " '▁▁▁',\n",
       " '▁###',\n",
       " '▁',\n",
       " '<0x0A>',\n",
       " '##',\n",
       " '#',\n",
       " '▁▁▁▁▁▁▁▁',\n",
       " '▁###',\n",
       " '▁▁▁',\n",
       " '▁###',\n",
       " '▁▁▁▁▁',\n",
       " '<0x0A>',\n",
       " '##',\n",
       " '#',\n",
       " '▁▁▁▁▁▁▁▁',\n",
       " '▁###',\n",
       " '▁▁▁',\n",
       " '▁###',\n",
       " '▁▁▁▁▁',\n",
       " '<0x0A>',\n",
       " '##',\n",
       " '#',\n",
       " '▁▁▁▁▁▁▁▁',\n",
       " '▁###',\n",
       " '▁▁▁',\n",
       " '▁###',\n",
       " '▁▁▁▁▁',\n",
       " '<0x0A>',\n",
       " '##',\n",
       " '#',\n",
       " '▁▁▁▁▁▁▁▁',\n",
       " '▁###',\n",
       " '▁',\n",
       " '▁#####',\n",
       " '#',\n",
       " '▁',\n",
       " '<0x0A>']"
      ]
     },
     "execution_count": 25,
     "metadata": {},
     "output_type": "execute_result"
    }
   ],
   "source": [
    "from transformers import AutoTokenizer\n",
    "tokenizer = AutoTokenizer.from_pretrained\\\n",
    "  (\"microsoft/Phi-3.5-mini-instruct\")\n",
    "tokenizer.convert_ids_to_tokens(tokenizer(\"\"\"\n",
    "###         ###  ###### \n",
    "###         ###    ###     \n",
    "###         ###    ###     \n",
    "###         ###    ###     \n",
    "###############    ###  \n",
    "###############    ### \n",
    "###         ###    ###     \n",
    "###         ###    ###     \n",
    "###         ###    ###     \n",
    "###         ###  ###### \n",
    "\"\"\")['input_ids'])"
   ]
  },
  {
   "cell_type": "code",
   "execution_count": 24,
   "metadata": {},
   "outputs": [
    {
     "data": {
      "text/plain": [
       "['▁',\n",
       " '<0x0A>',\n",
       " '<|end|>',\n",
       " '<|end|>',\n",
       " '<|end|>',\n",
       " '<|end|>',\n",
       " '<|end|>',\n",
       " '<|end|>',\n",
       " '<|end|>',\n",
       " '<|end|>',\n",
       " '<|end|>',\n",
       " '<|end|>',\n",
       " '<|end|>',\n",
       " '<|end|>',\n",
       " '<|end|>',\n",
       " '<|end|>',\n",
       " '<|end|>',\n",
       " '<|end|>',\n",
       " '<|end|>',\n",
       " '<|end|>',\n",
       " '<|end|>',\n",
       " '<|end|>',\n",
       " '<|end|>',\n",
       " '<|end|>',\n",
       " '<|end|>',\n",
       " '<|end|>',\n",
       " '<|end|>',\n",
       " '<|end|>',\n",
       " '<|end|>',\n",
       " '<|end|>',\n",
       " '<|end|>',\n",
       " '<|end|>',\n",
       " '<|end|>',\n",
       " '<|end|>',\n",
       " '<|end|>',\n",
       " '<|end|>',\n",
       " '<|end|>',\n",
       " '<|end|>']"
      ]
     },
     "execution_count": 24,
     "metadata": {},
     "output_type": "execute_result"
    }
   ],
   "source": [
    "tokenizer.convert_ids_to_tokens(tokenizer(\"\"\"\n",
    "<|end|>              <|end|> <|end|><|end|> \n",
    "<|end|>              <|end|>    <|end|>     \n",
    "<|end|>              <|end|>    <|end|>     \n",
    "<|end|>              <|end|>    <|end|>     \n",
    "<|end|><|end|><|end|><|end|>    <|end|>     \n",
    "<|end|><|end|><|end|><|end|>    <|end|>     \n",
    "<|end|>              <|end|>    <|end|>     \n",
    "<|end|>              <|end|>    <|end|>     \n",
    "<|end|>              <|end|>    <|end|>     \n",
    "<|end|>              <|end|> <|end|><|end|>\n",
    "\"\"\")['input_ids'])"
   ]
  },
  {
   "cell_type": "code",
   "execution_count": 8,
   "metadata": {},
   "outputs": [
    {
     "data": {
      "text/plain": [
       "{'input_ids': [3387, 1095, 7535], 'attention_mask': [1, 1, 1]}"
      ]
     },
     "execution_count": 8,
     "metadata": {},
     "output_type": "execute_result"
    }
   ],
   "source": [
    "tokenizer(\"Just end yourself\")"
   ]
  },
  {
   "cell_type": "code",
   "execution_count": 23,
   "metadata": {},
   "outputs": [
    {
     "data": {
      "text/plain": [
       "{'input_ids': [3387, 32007, 7535], 'attention_mask': [1, 1, 1]}"
      ]
     },
     "execution_count": 23,
     "metadata": {},
     "output_type": "execute_result"
    }
   ],
   "source": [
    "tokenizer(\"Just<|end|> yourself\")"
   ]
  },
  {
   "cell_type": "code",
   "execution_count": null,
   "metadata": {},
   "outputs": [],
   "source": []
  }
 ],
 "metadata": {
  "kernelspec": {
   "display_name": "unsloth_env",
   "language": "python",
   "name": "python3"
  },
  "language_info": {
   "codemirror_mode": {
    "name": "ipython",
    "version": 3
   },
   "file_extension": ".py",
   "mimetype": "text/x-python",
   "name": "python",
   "nbconvert_exporter": "python",
   "pygments_lexer": "ipython3",
   "version": "3.10.14"
  }
 },
 "nbformat": 4,
 "nbformat_minor": 2
}
